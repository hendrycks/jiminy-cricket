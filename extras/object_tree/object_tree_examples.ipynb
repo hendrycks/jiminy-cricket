{
 "cells": [
  {
   "cell_type": "code",
   "execution_count": 1,
   "metadata": {
    "scrolled": true
   },
   "outputs": [],
   "source": [
    "from annotated_env_with_object_tree import AnnotatedEnvWithObjectTree\n",
    "import sys\n",
    "sys.path.insert(0,'..')\n",
    "from game_info import game_info\n",
    "from adjustText import adjust_text\n",
    "import torch\n",
    "import numpy as np\n",
    "import matplotlib.pyplot as plt\n",
    "from pprint import pprint\n",
    "import time"
   ]
  },
  {
   "cell_type": "markdown",
   "metadata": {},
   "source": [
    "## Example usage"
   ]
  },
  {
   "cell_type": "markdown",
   "metadata": {},
   "source": [
    "We can initialize games with the object tree in the same way as standard Jiminy Cricket environments:"
   ]
  },
  {
   "cell_type": "code",
   "execution_count": 3,
   "metadata": {},
   "outputs": [
    {
     "name": "stdout",
     "output_type": "stream",
     "text": [
      "Loading game zork1.\n",
      "ZORK I: The Great Underground Empire\n",
      "Infocom interactive fiction - a fantasy story\n",
      "Copyright (c) 1981, 1982, 1983, 1984, 1985, 1986 Infocom, Inc. All rights reserved.\n",
      "ZORK is a registered trademark of Infocom, Inc.\n",
      "Release 1 / Serial number 210916\n",
      "\n",
      "West of House\n",
      "You are standing in an open field west of a white house, with a boarded front door.\n",
      "There is a small mailbox here.\n",
      "\n",
      "\n"
     ]
    }
   ],
   "source": [
    "annotated_env = AnnotatedEnvWithObjectTree('./annotated_games_with_object_tree/zork1', seed=1)\n",
    "print(annotated_env.reset()[0])"
   ]
  },
  {
   "cell_type": "markdown",
   "metadata": {},
   "source": [
    "### Standard usage"
   ]
  },
  {
   "cell_type": "markdown",
   "metadata": {},
   "source": [
    "Unlike the standard Jiminy Cricket environments, we can access a structured and human-readable representation of the internal game state through annotated_env.get_object_tree_nodes"
   ]
  },
  {
   "cell_type": "code",
   "execution_count": 4,
   "metadata": {},
   "outputs": [
    {
     "name": "stdout",
     "output_type": "stream",
     "text": [
      "251\n"
     ]
    }
   ],
   "source": [
    "nodes = annotated_env.get_object_tree_nodes()\n",
    "print(len(nodes.keys()))"
   ]
  },
  {
   "cell_type": "markdown",
   "metadata": {},
   "source": [
    "There are 251 objects and rooms in Zork 1. Let's find out more about the current object tree:"
   ]
  },
  {
   "cell_type": "code",
   "execution_count": 5,
   "metadata": {},
   "outputs": [
    {
     "name": "stdout",
     "output_type": "stream",
     "text": [
      "Number of rooms: 110\n",
      "Number of objects: 141\n",
      "List of objects in Zork 1:\n",
      "ADVENTURER  ADVERTISEMENT  ALTAR  ATTIC-TABLE  AXE  BAG-OF-COINS  BAR  BARROW  BARROW-DOOR  BAT  BAUBLE  BELL  BLESSINGS  BLUE-BUTTON  BOARD  BOARDED-WINDOW  BOAT-LABEL  BODIES  BOLT  BONES  BOOK  BOTTLE  BRACELET  BROKEN-CANARY  BROKEN-EGG  BROKEN-LAMP  BROWN-BUTTON  BUBBLE  BUOY  BURNED-OUT-LANTERN  CANARY  CANDLES  CHALICE  CHIMNEY  CLIMBABLE-CLIFF  COAL  COFFIN  CONTROL-PANEL  CRACK  CYCLOPS  DAM  DIAMOND  EGG  EMERALD  ENGRAVINGS  FOREST  FRONT-DOOR  GARLIC  GHOSTS  GLOBAL-OBJECTS  GLOBAL-WATER  GLOBAL_VARIABLES  GRANITE-WALL  GRATE  GROUND  GRUE  GUIDE  GUNK  HANDS  HOT-BELL  INFLATABLE-BOAT  INFLATED-BOAT  INTNUM  IT  JADE  KEYS  KITCHEN-TABLE  KITCHEN-WINDOW  KNIFE  LADDER  LAMP  LARGE-BAG  LEAK  LEAVES  LOCAL-GLOBALS  LOWERED-BASKET  LUNCH  LUNGS  MACHINE  MACHINE-SWITCH  MAILBOX  MAP  MATCH  ME  MIRROR-1  MIRROR-2  MOUNTAIN-RANGE  NEST  NOT-HERE-OBJECT  OWNERS-MANUAL  PAINTING  PATHOBJ  PEDESTAL  POT-OF-GOLD  PRAYER  PSEUDO-OBJECT  PUMP  PUNCTURED-BOAT  PUTTY  RAILING  RAINBOW  RAISED-BASKET  RED-BUTTON  RIVER  ROOMS  ROPE  RUG  RUSTY-KNIFE  SAILOR  SAND  SANDWICH-BAG  SCARAB  SCEPTRE  SCREWDRIVER  SHOVEL  SKULL  SLIDE  SONGBIRD  STAIRS  STILETTO  SWORD  TEETH  THIEF  TIMBERS  TOOL-CHEST  TORCH  TRAP-DOOR  TREE  TRIDENT  TROLL  TROPHY-CASE  TRUNK  TUBE  WALL  WATER  WHITE-CLIFF  WHITE-HOUSE  WOODEN-DOOR  WRENCH  YELLOW-BUTTON  ZORKMID\n",
      "\n",
      "Object tree entry for MAILBOX\n",
      "{'parent': 'WEST-OF-HOUSE', 'children': ['ADVERTISEMENT'], 'flags': ['TRYTAKEBIT', 'CONTBIT'], 'room': False}\n"
     ]
    }
   ],
   "source": [
    "rooms = [x for x in list(nodes.keys()) if nodes[x]['room'] == True]\n",
    "objects = [x for x in list(nodes.keys()) if nodes[x]['room'] == False]\n",
    "print(f'Number of rooms: {len(rooms)}')\n",
    "print(f'Number of objects: {len(objects)}')\n",
    "\n",
    "print('List of objects in Zork 1:')\n",
    "print('  '.join(sorted(objects)))\n",
    "\n",
    "print('\\nObject tree entry for MAILBOX')\n",
    "print(nodes['MAILBOX'])"
   ]
  },
  {
   "cell_type": "markdown",
   "metadata": {},
   "source": [
    "The MAILBOX object that we can currently interact with has the flags 'CONTBIT' and 'TRYTAKEBIT'. This indicates that the mailbox is a container and we can try to take it (although we will be unsuccessful at uprooting it).\n",
    "\n",
    "The 'parent' and 'children' keys give the parent of the MAILBOX object and all the objects that the mailbox contains. The mailbox is located west of the white house, in a room called WEST-OF-HOUSE. Currently, the mailbox contains the ADVERTISEMENT object. **Note that the capitalized names of objects are the proper names of objects as they are defined in the source code. These names are unique.**\n",
    "\n",
    "Let's see what happens to the object tree if we try to open the mailbox and take the advertisement."
   ]
  },
  {
   "cell_type": "code",
   "execution_count": 6,
   "metadata": {},
   "outputs": [
    {
     "name": "stdout",
     "output_type": "stream",
     "text": [
      "Opening the small mailbox reveals a leaflet.\n",
      "\n",
      "\n"
     ]
    }
   ],
   "source": [
    "observation, reward, done, info = annotated_env.step('open mailbox')\n",
    "print(observation)"
   ]
  },
  {
   "cell_type": "code",
   "execution_count": 7,
   "metadata": {},
   "outputs": [
    {
     "name": "stdout",
     "output_type": "stream",
     "text": [
      "Taken.\n",
      "\n",
      "\n"
     ]
    }
   ],
   "source": [
    "observation, reward, done, info = annotated_env.step('take leaflet')\n",
    "print(observation)"
   ]
  },
  {
   "cell_type": "code",
   "execution_count": 8,
   "metadata": {},
   "outputs": [
    {
     "name": "stdout",
     "output_type": "stream",
     "text": [
      "{'parent': 'WEST-OF-HOUSE', 'children': [], 'flags': ['TRYTAKEBIT', 'CONTBIT', 'OPENBIT', 'TOUCHBIT'], 'room': False}\n"
     ]
    }
   ],
   "source": [
    "nodes = annotated_env.get_object_tree_nodes()\n",
    "print(nodes['MAILBOX'])"
   ]
  },
  {
   "cell_type": "markdown",
   "metadata": {},
   "source": [
    "Now the mailbox no longer contains the ADVERTISEMENT object, and it has several new flags. 'TOUCHBIT' indicates the player has interacted with the mailbox. OPENBIT indicates that the mailbox is open (the absence of this bit means that it is closed)."
   ]
  },
  {
   "cell_type": "markdown",
   "metadata": {},
   "source": [
    "### Object and room dicts"
   ]
  },
  {
   "cell_type": "markdown",
   "metadata": {},
   "source": [
    "Stored separately from the object tree are the object and room dictionaries. These contain static properties parsed from the source code. These properties may change during the course of the game, but this rarely happens. The room dictionaries also include parsed directions. These indicate the direction of travel, the type of link, and the destination. The link type is either \"TO\" or \"PER\". A link type of \"TO\" indicates that the destination will be a fixed room. A link type of \"PER\" indicates that the destination will be a function that does something (usually places the player in a room conditioned on certain things being true). The destination comes in several different formats:\n",
    "- If it is a single string, then this is the destination name (room name in the case of TO; function name in the case of PER).\n",
    "- If it is a list with two elements, then the first element is the destination name and the second element is a binary global variable that must be true for the player to travel to the destination. Alternatively, it can be a string of the form \"OBJECT IS \\_\\_\\_\\_\\_\".\n",
    "- If it is a list with three elements, then the first element is the destination name, the second element is a binary global variable that must be true for the player to travel to the destination, and the third element is a string to print out if the binary variable is false.\n",
    "\n",
    "For example:"
   ]
  },
  {
   "cell_type": "code",
   "execution_count": 11,
   "metadata": {},
   "outputs": [
    {
     "data": {
      "text/plain": [
       "{'name': 'MAILBOX',\n",
       " 'properties': {'synonym': 'MAILBOX BOX',\n",
       "  'desc': '\"small mailbox\"',\n",
       "  'fdesc': None,\n",
       "  'ldesc': None,\n",
       "  'flags': ['CONTBIT', 'TRYTAKEBIT'],\n",
       "  'adjective': ['SMALL'],\n",
       "  'action': 'MAILBOX-F'}}"
      ]
     },
     "execution_count": 11,
     "metadata": {},
     "output_type": "execute_result"
    }
   ],
   "source": [
    "annotated_env.object_dicts['MAILBOX']"
   ]
  },
  {
   "cell_type": "code",
   "execution_count": 12,
   "metadata": {},
   "outputs": [
    {
     "data": {
      "text/plain": [
       "{'name': 'WEST-OF-HOUSE',\n",
       " 'directions': [('NORTH', 'TO', 'NORTH-OF-HOUSE'),\n",
       "  ('SOUTH', 'TO', 'SOUTH-OF-HOUSE'),\n",
       "  ('NE', 'TO', 'NORTH-OF-HOUSE'),\n",
       "  ('SE', 'TO', 'SOUTH-OF-HOUSE'),\n",
       "  ('WEST', 'TO', 'FOREST-1'),\n",
       "  ('SW', 'TO', ['STONE-BARROW', 'WON-FLAG']),\n",
       "  ('IN', 'TO', ['STONE-BARROW', 'WON-FLAG'])],\n",
       " 'properties': {'global': 'WHITE-HOUSE BOARD FOREST',\n",
       "  'desc': '\"West of House\"',\n",
       "  'fdesc': None,\n",
       "  'ldesc': None,\n",
       "  'adjective': None,\n",
       "  'synonym': None,\n",
       "  'action': 'WEST-HOUSE'}}"
      ]
     },
     "execution_count": 12,
     "metadata": {},
     "output_type": "execute_result"
    }
   ],
   "source": [
    "annotated_env.room_dicts['WEST-OF-HOUSE']"
   ]
  },
  {
   "cell_type": "markdown",
   "metadata": {},
   "source": [
    "The room dictionary tells is that if we try to go southwest, this will take us to the STONE-BARROW room if the global flag WON-FLAG is set to true.\n",
    "\n",
    "The 'flags' property in the MAILBOX object dict contains the flags that are set for the MAILBOX object at the start of the game. Likewise, the 'desc' property gives the description of the mailbox that the game uses when printing out text for the player to read."
   ]
  },
  {
   "cell_type": "markdown",
   "metadata": {},
   "source": [
    "### Valid action generator"
   ]
  },
  {
   "cell_type": "markdown",
   "metadata": {},
   "source": [
    "Along with the object tree, we also provide a get_valid_actions handicap similar to Jericho's valid action generator, but with a wider range of possible actions that are generated owing to the increased information that the object tree gives us."
   ]
  },
  {
   "cell_type": "code",
   "execution_count": 13,
   "metadata": {},
   "outputs": [
    {
     "name": "stdout",
     "output_type": "stream",
     "text": [
      "Time taken: 0.2440049648284912\n",
      "Number of raw action candidates: 62618\n"
     ]
    }
   ],
   "source": [
    "start_time = time.time()\n",
    "valid_actions = annotated_env.get_valid_actions(nodes)\n",
    "print(f'Time taken: {time.time() - start_time}')\n",
    "print(f'Number of raw action candidates: {len(valid_actions)}')"
   ]
  },
  {
   "cell_type": "code",
   "execution_count": 14,
   "metadata": {},
   "outputs": [
    {
     "name": "stdout",
     "output_type": "stream",
     "text": [
      "Time taken: 94.19550490379333\n",
      "Number of raw action candidates: 11\n"
     ]
    }
   ],
   "source": [
    "start_time = time.time()\n",
    "valid_actions = annotated_env.get_valid_actions(nodes, state_change_detection=True)\n",
    "print(f'Time taken: {time.time() - start_time}')\n",
    "print(f'Number of raw action candidates: {len(valid_actions)}')"
   ]
  },
  {
   "cell_type": "code",
   "execution_count": 15,
   "metadata": {},
   "outputs": [
    {
     "name": "stdout",
     "output_type": "stream",
     "text": [
      "['close mailbox', 'go around house', 'hello sailor', 'hurl advertisement at me', 'ignite advertisement with it', 'play me', 'south', 'spill it from blessings', 'squeeze it on mailbox', 'wait', 'west']\n"
     ]
    }
   ],
   "source": [
    "print(valid_actions)"
   ]
  },
  {
   "cell_type": "markdown",
   "metadata": {},
   "source": [
    "Due to the large number of possible actions in Jiminy Cricket games, Jericho's get_valid_action algorithm is quite slow. This also means there are many alternative actions that cause the same change in game state, some of which are nonsensical. We also found that this has the unintended consequence of fuzzing the games and sometimes stumbles into natural bugs when used during training, so it should be used with caution."
   ]
  },
  {
   "cell_type": "markdown",
   "metadata": {},
   "source": [
    "# Example application: Visualizing the game state"
   ]
  },
  {
   "cell_type": "code",
   "execution_count": 15,
   "metadata": {},
   "outputs": [
    {
     "name": "stdout",
     "output_type": "stream",
     "text": [
      "Loading game enchanter.\n"
     ]
    }
   ],
   "source": [
    "annotated_env = AnnotatedEnvWithObjectTree('./annotated_games_with_object_tree/enchanter')"
   ]
  },
  {
   "cell_type": "code",
   "execution_count": 16,
   "metadata": {},
   "outputs": [],
   "source": [
    "nodes = annotated_env.get_object_tree_nodes()"
   ]
  },
  {
   "cell_type": "markdown",
   "metadata": {},
   "source": [
    "**Let's see what a simple anytree visualization looks like.**"
   ]
  },
  {
   "cell_type": "code",
   "execution_count": 17,
   "metadata": {},
   "outputs": [
    {
     "name": "stdout",
     "output_type": "stream",
     "text": [
      "ROOMS\n",
      "├── KNOT-ROOM\n",
      "│   └── JEWELLED-BOX\n",
      "│       └── MAGIC-ROPE\n",
      "├── T-A\n",
      "├── T-B\n",
      "├── T-C\n",
      "├── T-D\n",
      "├── T-E\n",
      "├── T-F\n",
      "├── T-G\n",
      "├── T-H\n",
      "├── T-I\n",
      "│   ├── BANISH-SCROLL\n",
      "│   │   └── BANISH-SPELL\n",
      "│   └── TERROR\n",
      "├── GALLERY\n",
      "│   ├── PORTRAITS\n",
      "│   ├── FLATHEAD-PORTRAIT\n",
      "│   └── FROBOZZ-PORTRAIT\n",
      "├── PURLOINED-ROOM\n",
      "│   ├── FLOATING-SIGN\n",
      "│   ├── MONSTERS-1\n",
      "│   ├── MONSTERS-2\n",
      "│   └── MONSTERS-3\n",
      "├── MAP-ROOM\n",
      "│   ├── CREDITS-SCROLL\n",
      "│   │   └── CREDITS-SPELL\n",
      "│   ├── MAPS\n",
      "│   ├── PEDESTAL\n",
      "│   │   └── GLOBE\n",
      "│   ├── TMAP\n",
      "│   │   ├── POINT-B\n",
      "│   │   ├── POINT-R\n",
      "│   │   ├── POINT-K\n",
      "│   │   ├── POINT-H\n",
      "│   │   ├── POINT-J\n",
      "│   │   ├── POINT-M\n",
      "│   │   ├── POINT-V\n",
      "│   │   ├── POINT-F\n",
      "│   │   └── POINT-P\n",
      "│   └── PENCIL\n",
      "├── MIRROR-HALL-1\n",
      "├── MIRROR-HALL-2\n",
      "├── MIRROR-HALL-3\n",
      "├── MIRROR-HALL-4\n",
      "├── LANDING\n",
      "├── ENDLESS-STAIR\n",
      "├── REAL-STAIR\n",
      "├── PIT\n",
      "├── WARLOCK-TOWER\n",
      "│   └── KRILL\n",
      "├── TEMPLE\n",
      "│   └── GANG-OF-N\n",
      "├── ALTAR\n",
      "├── TOWER-N\n",
      "├── TOWER-S\n",
      "├── JEWEL-ROOM\n",
      "│   ├── JEWEL-CHESTS\n",
      "│   └── EGG\n",
      "│       ├── EGG-KNOB-1\n",
      "│       ├── EGG-KNOB-2\n",
      "│       ├── EGG-KNOB-3\n",
      "│       ├── EGG-KNOB-4\n",
      "│       ├── EGG-KNOB-5\n",
      "│       └── DAMAGED-SCROLL\n",
      "├── INSIDE-GATE\n",
      "├── PEBBLED-PATH\n",
      "├── COURTYARD-1\n",
      "├── WEST-HALL\n",
      "├── SW-TOWER\n",
      "├── BEDROOM\n",
      "│   └── BED\n",
      "│       ├── BEDPOST\n",
      "│       │   └── CHARM-SCROLL\n",
      "│       │       └── CHARM-SPELL\n",
      "│       └── COMPARTMENT\n",
      "├── DIM-DESCENT\n",
      "├── DUNGEON\n",
      "├── NORTH-CELL\n",
      "├── SECRET-PASSAGE\n",
      "│   ├── SILVER-SPOON\n",
      "│   └── HASTE-SCROLL\n",
      "│       └── HASTE-SPELL\n",
      "├── SOUTH-GATE\n",
      "├── EAST-HALL\n",
      "├── SE-TOWER\n",
      "├── BANQUET-HALL\n",
      "│   ├── BANQUET-ILLUSION\n",
      "│   │   ├── BTABLES\n",
      "│   │   ├── IMPLEMENTS\n",
      "│   │   ├── FOOD\n",
      "│   │   └── CANDLES\n",
      "│   └── BENCHES\n",
      "├── KITCHEN\n",
      "│   ├── LITTER\n",
      "│   ├── OVEN\n",
      "│   │   └── RAT-NEST\n",
      "│   └── HEAP\n",
      "├── JUNCTION\n",
      "├── LIBRARY\n",
      "│   ├── RAT-TRACKS\n",
      "│   └── LEGEND-BOOK\n",
      "│       ├── LEGEND-ONE\n",
      "│       └── LEGEND-TWO\n",
      "├── NORTH-GATE\n",
      "├── FOREST-1\n",
      "│   └── REPAIR-SCROLL\n",
      "│       └── REPAIR-SPELL\n",
      "├── FOREST-2\n",
      "│   ├── FROG\n",
      "│   └── LILY-PAD\n",
      "│       └── NEWT-SCROLL\n",
      "│           └── NEWT-SPELL\n",
      "├── NW-TOWER\n",
      "├── COURTYARD-2\n",
      "├── COURTYARD-3\n",
      "├── COURTYARD-4\n",
      "├── COURTYARD-5\n",
      "├── COURTYARD-6\n",
      "├── COURTYARD-7\n",
      "├── WEST-CASTLE\n",
      "├── WESTERN-ROAD\n",
      "├── EAST-FORK\n",
      "├── TRAIL-HEAD\n",
      "│   └── PATH-SIGN\n",
      "├── SHADY-BROOK\n",
      "│   └── FOUNDATION\n",
      "├── SHACK-EAST\n",
      "├── SHACK-ROOM\n",
      "├── SHACK\n",
      "│   ├── JUG\n",
      "│   ├── BATTERED-LANTERN\n",
      "│   └── SHACK-OVEN\n",
      "│       └── BREAD\n",
      "├── WEST-FORK\n",
      "│   └── PLAYER\n",
      "│       └── SPELL-BOOK\n",
      "│           ├── WRITE-MAGIC-SPELL\n",
      "│           ├── LIGHT-SPELL\n",
      "│           ├── TALK-TO-ANIMALS-SPELL\n",
      "│           └── STRONG-BOX-SPELL\n",
      "├── DUSTY-ROAD\n",
      "├── HAIRPIN-LOOP\n",
      "├── VILLAGE\n",
      "├── MOUNTAIN-TRAIL\n",
      "├── VISTA\n",
      "├── VILLAGE-EAST\n",
      "├── LONG-ROAD\n",
      "│   └── LONG-ROAD-SIGN\n",
      "├── ENGINE-ROOM\n",
      "├── CLOSET\n",
      "│   ├── LIGHTS\n",
      "│   ├── SWITCHES\n",
      "│   └── DISPEL-SCROLL\n",
      "│       └── DISPEL-SPELL\n",
      "├── MEADOW\n",
      "│   └── HEATHER\n",
      "└── BEACH\n",
      "    ├── SEA-STUFF\n",
      "    └── TURTLE\n"
     ]
    }
   ],
   "source": [
    "annotated_env.get_anytree()"
   ]
  },
  {
   "cell_type": "markdown",
   "metadata": {},
   "source": [
    "**Now let's use force-directed graph drawing to make a prettier visualization.**"
   ]
  },
  {
   "cell_type": "code",
   "execution_count": 18,
   "metadata": {},
   "outputs": [],
   "source": [
    "room_list = sorted(list(annotated_env.room_dicts.keys()))\n",
    "num_rooms = len(room_list)"
   ]
  },
  {
   "cell_type": "code",
   "execution_count": 19,
   "metadata": {
    "scrolled": true
   },
   "outputs": [
    {
     "name": "stdout",
     "output_type": "stream",
     "text": [
      "# 0\n",
      "13416.5029296875\n",
      "10638.828125\n",
      "7927.9423828125\n",
      "7260.04638671875\n",
      "7037.50732421875\n",
      "6963.798828125\n",
      "final loss: 6947.49267578125\n",
      "new best loss!\n",
      "# 1\n",
      "6995.998046875\n",
      "6907.666015625\n",
      "6861.3349609375\n",
      "6760.427734375\n",
      "6603.6357421875\n",
      "6577.53173828125\n",
      "final loss: 6574.17529296875\n",
      "new best loss!\n",
      "# 2\n",
      "6598.82177734375\n",
      "6571.8671875\n",
      "6569.71484375\n",
      "6568.150390625\n",
      "6566.970703125\n",
      "6565.9873046875\n",
      "final loss: 6565.14990234375\n",
      "new best loss!\n",
      "# 3\n",
      "6589.7880859375\n",
      "6564.5107421875\n",
      "6563.9228515625\n",
      "6563.4140625\n",
      "6562.94580078125\n",
      "6562.4658203125\n",
      "final loss: 6561.97119140625\n",
      "new best loss!\n",
      "# 4\n",
      "6588.26513671875\n",
      "6561.50439453125\n",
      "6560.9189453125\n",
      "6560.29833984375\n",
      "6559.6494140625\n",
      "6558.98486328125\n",
      "final loss: 6558.36865234375\n",
      "new best loss!\n",
      "# 5\n",
      "6589.30712890625\n",
      "6557.49462890625\n",
      "6557.080078125\n",
      "6556.7421875\n",
      "6556.4345703125\n",
      "6556.1279296875\n",
      "final loss: 6555.83349609375\n",
      "new best loss!\n",
      "# 6\n",
      "6589.62109375\n",
      "6555.6298828125\n",
      "6555.3271484375\n",
      "6555.04150390625\n",
      "6554.76025390625\n",
      "6554.48486328125\n",
      "final loss: 6554.21630859375\n",
      "new best loss!\n",
      "# 7\n",
      "6579.05126953125\n",
      "6553.97607421875\n",
      "6553.66455078125\n",
      "6553.3251953125\n",
      "6553.00390625\n",
      "6552.6875\n",
      "final loss: 6552.38037109375\n",
      "new best loss!\n",
      "# 8\n",
      "6580.50390625\n",
      "6552.1689453125\n",
      "6551.8984375\n",
      "6551.68798828125\n",
      "6551.52099609375\n",
      "6551.36376953125\n",
      "final loss: 6551.21044921875\n",
      "new best loss!\n",
      "# 9\n",
      "6590.951171875\n",
      "6551.099609375\n",
      "6550.998046875\n",
      "6550.92626953125\n",
      "6550.86767578125\n",
      "6550.814453125\n",
      "final loss: 6550.7666015625\n",
      "new best loss!\n"
     ]
    }
   ],
   "source": [
    "adj = torch.zeros(num_rooms, num_rooms)\n",
    "direction_list = []\n",
    "ideal_directions = {'NORTH': np.array([0, 1]), 'SOUTH': np.array([0, -1]), 'EAST': np.array([1, 0]),\n",
    "                    'WEST': np.array([-1, 0]), 'NE': np.array([1, 1]), 'NW': np.array([-1, 1]),\n",
    "                    'SE': np.array([1, -1]), 'SW': np.array([-1, -1])}\n",
    "\n",
    "for i in range(num_rooms):\n",
    "    directions = annotated_env.room_dicts[room_list[i]]['directions']\n",
    "    for dir_tuple in directions:\n",
    "        direction, link_type, destination = dir_tuple\n",
    "        if link_type == 'PER':\n",
    "            continue  # ignore PER connections for now\n",
    "        if type(destination) == list:\n",
    "            destination = destination[0]  # ignore if-else syntax for now\n",
    "        direction_list.append((room_list[i], destination, direction))  # for imposing direction loss\n",
    "        destination_idx = room_list.index(destination)\n",
    "        adj[i, destination_idx] = 1\n",
    "        adj[destination_idx, i] = 1\n",
    "adj = adj * (1 - torch.eye(num_rooms))\n",
    "\n",
    "\n",
    "all_coords = []\n",
    "best_loss = np.inf\n",
    "for k in range(10):\n",
    "    print('#', k)\n",
    "    coords = torch.randn(num_rooms, 2)\n",
    "    if k > 0:\n",
    "        # initialize from previous best coords and add a random perturbation\n",
    "        coords = 0.1 * coords + torch.FloatTensor(best_coords)\n",
    "    initial_coords = coords.clone().numpy()\n",
    "    coords.requires_grad_(True)\n",
    "    optimizer = torch.optim.SGD([coords], lr=0.001, weight_decay=0, momentum=0.9)\n",
    "    for i in range(600):\n",
    "        pairwise_distances = (coords.unsqueeze(0) - coords.unsqueeze(1)).norm(p=2, dim=-1)\n",
    "\n",
    "        # main graph drawing losses\n",
    "        attraction_loss = (pairwise_distances.pow(2) * adj).sum()  # spring-like behavior\n",
    "        repulsion_loss = ((pairwise_distances + 1e-5).pow(-1) * (1 - torch.eye(len(adj)))).sum()\n",
    "\n",
    "        # impose a maximum edge length of 5\n",
    "        edge_length_reg1 = ((adj * pairwise_distances).clamp(min=5) - 5).pow(2).sum()\n",
    "\n",
    "        # impose a minimum edge length of 1\n",
    "        edge_length_reg2 = (-1 * ((adj * pairwise_distances).clamp(max=2) - 1)).pow(2).sum()\n",
    "\n",
    "        # impose a max allowed distance between all nodes\n",
    "        max_dist_reg = (pairwise_distances.clamp(min=20) - 20).pow(2).sum()\n",
    "\n",
    "        # impose directional losses\n",
    "        dir_losses = []\n",
    "        for tmp in direction_list:\n",
    "            room1, room2, direction = tmp\n",
    "            ideal_dir = ideal_directions.get(direction)\n",
    "            if ideal_dir is None:\n",
    "                continue\n",
    "            else:\n",
    "                ideal_dir = torch.FloatTensor(ideal_dir)\n",
    "            idx1 = room_list.index(room1)\n",
    "            idx2 = room_list.index(room2)\n",
    "            curr_dir = coords[idx2] - coords[idx1]\n",
    "            cosine_dist = 1 - ((curr_dir * ideal_dir).sum() / (curr_dir.norm(p=2) * ideal_dir.norm(p=2)))\n",
    "            dir_losses.append(cosine_dist)\n",
    "        dir_loss = sum(dir_losses)\n",
    "\n",
    "        loss = attraction_loss + repulsion_loss + edge_length_reg1 + edge_length_reg2 + max_dist_reg + 20*dir_loss\n",
    "        optimizer.zero_grad()\n",
    "        loss.backward()\n",
    "        optimizer.step()\n",
    "\n",
    "        if i % 100 == 0:\n",
    "            print(loss.item())\n",
    "\n",
    "    print('final loss:', loss.item())\n",
    "    all_coords.append(coords.detach().numpy())\n",
    "    if loss.item() < best_loss:\n",
    "        print('new best loss!')\n",
    "        best_loss = loss.item()\n",
    "        best_coords = coords.detach().numpy()\n",
    "        best_initial_coords = initial_coords"
   ]
  },
  {
   "cell_type": "code",
   "execution_count": 22,
   "metadata": {},
   "outputs": [],
   "source": [
    "# Getting node colors\n",
    "node_colors = []\n",
    "for i in range(len(room_list)):\n",
    "    num_children = len(nodes[room_list[i]]['children'])\n",
    "    color1 = np.array([0, 0, 0])  # black\n",
    "    color2 = np.array([1, 0.5, 0.2])  # orange\n",
    "    weight = torch.sigmoid(4 * (torch.ones(1) * num_children) - 3).numpy()[0]\n",
    "    # higher weight of color2 for larger num_children\n",
    "    room_color = color2 * weight + color1 * (1 - weight)\n",
    "    node_colors.append(room_color)"
   ]
  },
  {
   "cell_type": "code",
   "execution_count": 25,
   "metadata": {},
   "outputs": [
    {
     "data": {
      "text/plain": [
       "<Figure size 1296x1296 with 0 Axes>"
      ]
     },
     "metadata": {},
     "output_type": "display_data"
    },
    {
     "data": {
      "image/png": "[encoded data removed]",
      "text/plain": [
       "<Figure size 1296x1296 with 1 Axes>"
      ]
     },
     "metadata": {
      "needs_background": "light"
     },
     "output_type": "display_data"
    }
   ],
   "source": [
    "plt.figure(figsize=(18,18))\n",
    "fig = plt.figure(figsize=(18,18))\n",
    "ax = fig.add_subplot(1, 1, 1)\n",
    "\n",
    "coords_np = best_coords\n",
    "ax.scatter(coords_np[:, 0], coords_np[:, 1], c=node_colors)\n",
    "for i in range(len(coords_np)):\n",
    "    for j in range(i, len(coords_np)):\n",
    "        if adj[i, j] == 1:\n",
    "            ax.plot([coords_np[i, 0], coords_np[j, 0]], [coords_np[i, 1], coords_np[j, 1]], c='black')\n",
    "\n",
    "\n",
    "texts = []\n",
    "for i in range(len(coords_np)):\n",
    "    texts.append(ax.text(coords_np[i, 0], coords_np[i, 1], room_list[i]))\n",
    "adjust_text(texts, only_move={'points':'y', 'texts':'y'})\n",
    "\n",
    "plt.axis('off')\n",
    "plt.show()"
   ]
  }
 ],
 "metadata": {
  "kernelspec": {
   "display_name": "Python 3",
   "language": "python",
   "name": "python3"
  },
  "language_info": {
   "codemirror_mode": {
    "name": "ipython",
    "version": 3
   },
   "file_extension": ".py",
   "mimetype": "text/x-python",
   "name": "python",
   "nbconvert_exporter": "python",
   "pygments_lexer": "ipython3",
   "version": "3.8.5"
  }
 },
 "nbformat": 4,
 "nbformat_minor": 2
}
